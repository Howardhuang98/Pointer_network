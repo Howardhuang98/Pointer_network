{
 "cells": [
  {
   "cell_type": "code",
   "execution_count": 65,
   "metadata": {},
   "outputs": [],
   "source": [
    "import pandas as pd\n",
    "import numpy as np\n",
    "from keras.utils.np_utils import to_categorical"
   ]
  },
  {
   "cell_type": "markdown",
   "metadata": {
    "pycharm": {
     "name": "#%% md\n"
    }
   },
   "source": [
    "# 用pandas查看数据"
   ]
  },
  {
   "cell_type": "code",
   "execution_count": 66,
   "metadata": {
    "pycharm": {
     "name": "#%%\n"
    }
   },
   "outputs": [
    {
     "data": {
      "text/plain": "        0.597640340831  0.811472963882  0.378392540696  0.188165799059  \\\n0             0.616749        0.862917        0.646589        0.211572   \n1             0.379030        0.890446        0.322734        0.282492   \n2             0.533508        0.330255        0.243859        0.096770   \n3             0.853261        0.868294        0.247799        0.914311   \n4             0.194521        0.250352        0.444690        0.294712   \n...                ...             ...             ...             ...   \n999994        0.537250        0.288174        0.434028        0.251542   \n999995        0.233550        0.175775        0.095195        0.483445   \n999996        0.139867        0.662865        0.598948        0.817055   \n999997        0.559944        0.310630        0.767035        0.426365   \n999998        0.734121        0.612339        0.434179        0.710144   \n\n        0.442849630371  0.291815169363  0.363774192611  0.596244647907  \\\n0             0.669940        0.475992        0.339817        0.391328   \n1             0.823656        0.667440        0.585095        0.990539   \n2             0.495619        0.133440        0.864500        0.021500   \n3             0.953246        0.291881        0.310663        0.805400   \n4             0.487987        0.062408        0.681582        0.252301   \n...                ...             ...             ...             ...   \n999994        0.457031        0.065902        0.633687        0.070079   \n999995        0.117582        0.459116        0.089660        0.497597   \n999996        0.817873        0.676763        0.560807        0.016862   \n999997        0.195640        0.354084        0.386345        0.048603   \n999998        0.775295        0.843436        0.333334        0.450270   \n\n        0.955211930984  0.947031856076  output  1  4  2  3  5  1.1  \\\n0             0.470565        0.253927  output  1  3  2  5  4    1   \n1             0.402747        0.185903  output  1  2  5  3  4    1   \n2             0.959150        0.210121  output  1  2  3  4  5    1   \n3             0.503846        0.056197  output  1  2  4  5  3    1   \n4             0.270056        0.308489  output  1  5  2  4  3    1   \n...                ...             ...     ... .. .. .. .. ..  ...   \n999994        0.197201        0.562749  output  1  5  2  3  4    1   \n999995        0.002477        0.016063  output  1  3  2  4  5    1   \n999996        0.950601        0.495861  output  1  2  3  5  4    1   \n999997        0.299394        0.073220  output  1  4  5  3  2    1   \n999998        0.942541        0.080612  output  1  3  2  4  5    1   \n\n        Unnamed: 17  \n0               NaN  \n1               NaN  \n2               NaN  \n3               NaN  \n4               NaN  \n...             ...  \n999994          NaN  \n999995          NaN  \n999996          NaN  \n999997          NaN  \n999998          NaN  \n\n[999999 rows x 18 columns]",
      "text/html": "<div>\n<style scoped>\n    .dataframe tbody tr th:only-of-type {\n        vertical-align: middle;\n    }\n\n    .dataframe tbody tr th {\n        vertical-align: top;\n    }\n\n    .dataframe thead th {\n        text-align: right;\n    }\n</style>\n<table border=\"1\" class=\"dataframe\">\n  <thead>\n    <tr style=\"text-align: right;\">\n      <th></th>\n      <th>0.597640340831</th>\n      <th>0.811472963882</th>\n      <th>0.378392540696</th>\n      <th>0.188165799059</th>\n      <th>0.442849630371</th>\n      <th>0.291815169363</th>\n      <th>0.363774192611</th>\n      <th>0.596244647907</th>\n      <th>0.955211930984</th>\n      <th>0.947031856076</th>\n      <th>output</th>\n      <th>1</th>\n      <th>4</th>\n      <th>2</th>\n      <th>3</th>\n      <th>5</th>\n      <th>1.1</th>\n      <th>Unnamed: 17</th>\n    </tr>\n  </thead>\n  <tbody>\n    <tr>\n      <th>0</th>\n      <td>0.616749</td>\n      <td>0.862917</td>\n      <td>0.646589</td>\n      <td>0.211572</td>\n      <td>0.669940</td>\n      <td>0.475992</td>\n      <td>0.339817</td>\n      <td>0.391328</td>\n      <td>0.470565</td>\n      <td>0.253927</td>\n      <td>output</td>\n      <td>1</td>\n      <td>3</td>\n      <td>2</td>\n      <td>5</td>\n      <td>4</td>\n      <td>1</td>\n      <td>NaN</td>\n    </tr>\n    <tr>\n      <th>1</th>\n      <td>0.379030</td>\n      <td>0.890446</td>\n      <td>0.322734</td>\n      <td>0.282492</td>\n      <td>0.823656</td>\n      <td>0.667440</td>\n      <td>0.585095</td>\n      <td>0.990539</td>\n      <td>0.402747</td>\n      <td>0.185903</td>\n      <td>output</td>\n      <td>1</td>\n      <td>2</td>\n      <td>5</td>\n      <td>3</td>\n      <td>4</td>\n      <td>1</td>\n      <td>NaN</td>\n    </tr>\n    <tr>\n      <th>2</th>\n      <td>0.533508</td>\n      <td>0.330255</td>\n      <td>0.243859</td>\n      <td>0.096770</td>\n      <td>0.495619</td>\n      <td>0.133440</td>\n      <td>0.864500</td>\n      <td>0.021500</td>\n      <td>0.959150</td>\n      <td>0.210121</td>\n      <td>output</td>\n      <td>1</td>\n      <td>2</td>\n      <td>3</td>\n      <td>4</td>\n      <td>5</td>\n      <td>1</td>\n      <td>NaN</td>\n    </tr>\n    <tr>\n      <th>3</th>\n      <td>0.853261</td>\n      <td>0.868294</td>\n      <td>0.247799</td>\n      <td>0.914311</td>\n      <td>0.953246</td>\n      <td>0.291881</td>\n      <td>0.310663</td>\n      <td>0.805400</td>\n      <td>0.503846</td>\n      <td>0.056197</td>\n      <td>output</td>\n      <td>1</td>\n      <td>2</td>\n      <td>4</td>\n      <td>5</td>\n      <td>3</td>\n      <td>1</td>\n      <td>NaN</td>\n    </tr>\n    <tr>\n      <th>4</th>\n      <td>0.194521</td>\n      <td>0.250352</td>\n      <td>0.444690</td>\n      <td>0.294712</td>\n      <td>0.487987</td>\n      <td>0.062408</td>\n      <td>0.681582</td>\n      <td>0.252301</td>\n      <td>0.270056</td>\n      <td>0.308489</td>\n      <td>output</td>\n      <td>1</td>\n      <td>5</td>\n      <td>2</td>\n      <td>4</td>\n      <td>3</td>\n      <td>1</td>\n      <td>NaN</td>\n    </tr>\n    <tr>\n      <th>...</th>\n      <td>...</td>\n      <td>...</td>\n      <td>...</td>\n      <td>...</td>\n      <td>...</td>\n      <td>...</td>\n      <td>...</td>\n      <td>...</td>\n      <td>...</td>\n      <td>...</td>\n      <td>...</td>\n      <td>...</td>\n      <td>...</td>\n      <td>...</td>\n      <td>...</td>\n      <td>...</td>\n      <td>...</td>\n      <td>...</td>\n    </tr>\n    <tr>\n      <th>999994</th>\n      <td>0.537250</td>\n      <td>0.288174</td>\n      <td>0.434028</td>\n      <td>0.251542</td>\n      <td>0.457031</td>\n      <td>0.065902</td>\n      <td>0.633687</td>\n      <td>0.070079</td>\n      <td>0.197201</td>\n      <td>0.562749</td>\n      <td>output</td>\n      <td>1</td>\n      <td>5</td>\n      <td>2</td>\n      <td>3</td>\n      <td>4</td>\n      <td>1</td>\n      <td>NaN</td>\n    </tr>\n    <tr>\n      <th>999995</th>\n      <td>0.233550</td>\n      <td>0.175775</td>\n      <td>0.095195</td>\n      <td>0.483445</td>\n      <td>0.117582</td>\n      <td>0.459116</td>\n      <td>0.089660</td>\n      <td>0.497597</td>\n      <td>0.002477</td>\n      <td>0.016063</td>\n      <td>output</td>\n      <td>1</td>\n      <td>3</td>\n      <td>2</td>\n      <td>4</td>\n      <td>5</td>\n      <td>1</td>\n      <td>NaN</td>\n    </tr>\n    <tr>\n      <th>999996</th>\n      <td>0.139867</td>\n      <td>0.662865</td>\n      <td>0.598948</td>\n      <td>0.817055</td>\n      <td>0.817873</td>\n      <td>0.676763</td>\n      <td>0.560807</td>\n      <td>0.016862</td>\n      <td>0.950601</td>\n      <td>0.495861</td>\n      <td>output</td>\n      <td>1</td>\n      <td>2</td>\n      <td>3</td>\n      <td>5</td>\n      <td>4</td>\n      <td>1</td>\n      <td>NaN</td>\n    </tr>\n    <tr>\n      <th>999997</th>\n      <td>0.559944</td>\n      <td>0.310630</td>\n      <td>0.767035</td>\n      <td>0.426365</td>\n      <td>0.195640</td>\n      <td>0.354084</td>\n      <td>0.386345</td>\n      <td>0.048603</td>\n      <td>0.299394</td>\n      <td>0.073220</td>\n      <td>output</td>\n      <td>1</td>\n      <td>4</td>\n      <td>5</td>\n      <td>3</td>\n      <td>2</td>\n      <td>1</td>\n      <td>NaN</td>\n    </tr>\n    <tr>\n      <th>999998</th>\n      <td>0.734121</td>\n      <td>0.612339</td>\n      <td>0.434179</td>\n      <td>0.710144</td>\n      <td>0.775295</td>\n      <td>0.843436</td>\n      <td>0.333334</td>\n      <td>0.450270</td>\n      <td>0.942541</td>\n      <td>0.080612</td>\n      <td>output</td>\n      <td>1</td>\n      <td>3</td>\n      <td>2</td>\n      <td>4</td>\n      <td>5</td>\n      <td>1</td>\n      <td>NaN</td>\n    </tr>\n  </tbody>\n</table>\n<p>999999 rows × 18 columns</p>\n</div>"
     },
     "execution_count": 66,
     "metadata": {},
     "output_type": "execute_result"
    }
   ],
   "source": [
    "pd_data = pd.read_csv(r\"tsp_data/tsp_5/tsp5_train.txt\",sep=\" \")\n",
    "pd_data"
   ]
  },
  {
   "cell_type": "markdown",
   "metadata": {
    "pycharm": {
     "name": "#%% md\n"
    }
   },
   "source": [
    "加载 x  \n",
    "\\[samples, time_steps, feature]  \n",
    "\\[样本数，城市数目，2]  "
   ]
  },
  {
   "cell_type": "code",
   "execution_count": 67,
   "metadata": {
    "pycharm": {
     "name": "#%%\n"
    }
   },
   "outputs": [],
   "source": [
    "x_train = np.loadtxt(r\"tsp_data/tsp_5/tsp5_train.txt\",usecols=range(0,10))\n",
    "x_test = np.loadtxt(r\"tsp_data/tsp_5/tsp5_test.txt\",usecols=range(0,10))"
   ]
  },
  {
   "cell_type": "code",
   "execution_count": 68,
   "metadata": {},
   "outputs": [
    {
     "data": {
      "text/plain": "(1000000, 10)"
     },
     "execution_count": 68,
     "metadata": {},
     "output_type": "execute_result"
    }
   ],
   "source": [
    "x_train.shape"
   ]
  },
  {
   "cell_type": "code",
   "execution_count": 69,
   "metadata": {},
   "outputs": [
    {
     "data": {
      "text/plain": "(10000, 10)"
     },
     "execution_count": 69,
     "metadata": {},
     "output_type": "execute_result"
    }
   ],
   "source": [
    "x_test.shape"
   ]
  },
  {
   "cell_type": "code",
   "execution_count": 70,
   "metadata": {
    "pycharm": {
     "name": "#%%\n"
    }
   },
   "outputs": [
    {
     "data": {
      "text/plain": "array([[[0.02939179, 0.00964774],\n        [0.36771967, 0.01061911],\n        [0.6941572 , 0.30306739],\n        [0.72476562, 0.67138209],\n        [0.27330556, 0.95539236]],\n\n       [[0.52844706, 0.72382035],\n        [0.76059043, 0.57296281],\n        [0.10697758, 0.16078577],\n        [0.3466064 , 0.46512958],\n        [0.69620479, 0.37592563]],\n\n       [[0.94699081, 0.03307697],\n        [0.9062517 , 0.33310361],\n        [0.86770989, 0.05046198],\n        [0.2587944 , 0.88542052],\n        [0.06609635, 0.10331539]],\n\n       ...,\n\n       [[0.62862836, 0.92268072],\n        [0.44427856, 0.57644376],\n        [0.61574079, 0.13294286],\n        [0.11248611, 0.17990384],\n        [0.76538208, 0.87967792]],\n\n       [[0.09972703, 0.12856938],\n        [0.06715542, 0.9663578 ],\n        [0.49565377, 0.23600432],\n        [0.00538825, 0.79734351],\n        [0.22504104, 0.71391457]],\n\n       [[0.05190828, 0.31293221],\n        [0.03883916, 0.83874733],\n        [0.31831644, 0.83584855],\n        [0.72596161, 0.3918535 ],\n        [0.27324148, 0.30008517]]])"
     },
     "execution_count": 70,
     "metadata": {},
     "output_type": "execute_result"
    }
   ],
   "source": [
    "x_train = x_train.reshape((1000000,5,2))\n",
    "x_test = x_test.reshape((10000,5,2))\n",
    "x_test"
   ]
  },
  {
   "cell_type": "code",
   "execution_count": 71,
   "metadata": {
    "pycharm": {
     "name": "#%%\n"
    }
   },
   "outputs": [],
   "source": [
    "np.save(r\"tsp_data/tsp_5/tsp5_train_x.npy\",x_train)\n",
    "np.save(r\"tsp_data/tsp_5/tsp5_test_x.npy\",x_test)"
   ]
  },
  {
   "cell_type": "markdown",
   "metadata": {
    "pycharm": {
     "name": "#%% md\n"
    }
   },
   "source": [
    "加载 y  \n",
    "\\[samples, time_steps, prob]  \n",
    "\\[样本数，城市数目，每个城市对应的概率]  \n"
   ]
  },
  {
   "cell_type": "code",
   "execution_count": 77,
   "metadata": {
    "pycharm": {
     "name": "#%%\n"
    }
   },
   "outputs": [
    {
     "data": {
      "text/plain": "array([[1., 2., 3., 4., 5.],\n       [1., 2., 5., 3., 4.],\n       [1., 3., 5., 4., 2.],\n       ...,\n       [1., 2., 4., 3., 5.],\n       [1., 3., 5., 2., 4.],\n       [1., 2., 3., 4., 5.]])"
     },
     "execution_count": 77,
     "metadata": {},
     "output_type": "execute_result"
    }
   ],
   "source": [
    "y_train = np.loadtxt(r\"tsp_data/tsp_5/tsp5_train.txt\",dtype=str,usecols=range(11,16))\n",
    "y_train = y_train.astype(float)\n",
    "y_test = np.loadtxt(r\"tsp_data/tsp_5/tsp5_test.txt\",dtype=str,usecols=range(11,16))\n",
    "y_test = y_test.astype(float)\n",
    "y_test"
   ]
  },
  {
   "cell_type": "code",
   "execution_count": 78,
   "metadata": {
    "pycharm": {
     "name": "#%%\n"
    }
   },
   "outputs": [
    {
     "data": {
      "text/plain": "array([[0., 1., 2., 3., 4.],\n       [0., 1., 4., 2., 3.],\n       [0., 2., 4., 3., 1.],\n       ...,\n       [0., 1., 3., 2., 4.],\n       [0., 2., 4., 1., 3.],\n       [0., 1., 2., 3., 4.]])"
     },
     "execution_count": 78,
     "metadata": {},
     "output_type": "execute_result"
    }
   ],
   "source": [
    "y_train = y_train-1\n",
    "y_test = y_test-1\n",
    "y_test"
   ]
  },
  {
   "cell_type": "code",
   "execution_count": 79,
   "metadata": {
    "pycharm": {
     "name": "#%%\n"
    }
   },
   "outputs": [
    {
     "data": {
      "text/plain": "array([[[1., 0., 0., 0., 0.],\n        [0., 0., 0., 1., 0.],\n        [0., 1., 0., 0., 0.],\n        [0., 0., 1., 0., 0.],\n        [0., 0., 0., 0., 1.]],\n\n       [[1., 0., 0., 0., 0.],\n        [0., 0., 1., 0., 0.],\n        [0., 1., 0., 0., 0.],\n        [0., 0., 0., 0., 1.],\n        [0., 0., 0., 1., 0.]],\n\n       [[1., 0., 0., 0., 0.],\n        [0., 1., 0., 0., 0.],\n        [0., 0., 0., 0., 1.],\n        [0., 0., 1., 0., 0.],\n        [0., 0., 0., 1., 0.]],\n\n       ...,\n\n       [[1., 0., 0., 0., 0.],\n        [0., 1., 0., 0., 0.],\n        [0., 0., 1., 0., 0.],\n        [0., 0., 0., 0., 1.],\n        [0., 0., 0., 1., 0.]],\n\n       [[1., 0., 0., 0., 0.],\n        [0., 0., 0., 1., 0.],\n        [0., 0., 0., 0., 1.],\n        [0., 0., 1., 0., 0.],\n        [0., 1., 0., 0., 0.]],\n\n       [[1., 0., 0., 0., 0.],\n        [0., 0., 1., 0., 0.],\n        [0., 1., 0., 0., 0.],\n        [0., 0., 0., 1., 0.],\n        [0., 0., 0., 0., 1.]]], dtype=float32)"
     },
     "execution_count": 79,
     "metadata": {},
     "output_type": "execute_result"
    }
   ],
   "source": [
    "yy_train = []\n",
    "for per in y_train:\n",
    "    yy_train.append(to_categorical(per,num_classes=5))\n",
    "yy_train = np.asarray(yy_train)\n",
    "yy_train"
   ]
  },
  {
   "cell_type": "code",
   "execution_count": 80,
   "metadata": {},
   "outputs": [
    {
     "data": {
      "text/plain": "array([[[1., 0., 0., 0., 0.],\n        [0., 0., 0., 1., 0.],\n        [0., 1., 0., 0., 0.],\n        [0., 0., 1., 0., 0.],\n        [0., 0., 0., 0., 1.]],\n\n       [[1., 0., 0., 0., 0.],\n        [0., 0., 1., 0., 0.],\n        [0., 1., 0., 0., 0.],\n        [0., 0., 0., 0., 1.],\n        [0., 0., 0., 1., 0.]],\n\n       [[1., 0., 0., 0., 0.],\n        [0., 1., 0., 0., 0.],\n        [0., 0., 0., 0., 1.],\n        [0., 0., 1., 0., 0.],\n        [0., 0., 0., 1., 0.]],\n\n       ...,\n\n       [[1., 0., 0., 0., 0.],\n        [0., 1., 0., 0., 0.],\n        [0., 0., 1., 0., 0.],\n        [0., 0., 0., 0., 1.],\n        [0., 0., 0., 1., 0.]],\n\n       [[1., 0., 0., 0., 0.],\n        [0., 0., 0., 1., 0.],\n        [0., 0., 0., 0., 1.],\n        [0., 0., 1., 0., 0.],\n        [0., 1., 0., 0., 0.]],\n\n       [[1., 0., 0., 0., 0.],\n        [0., 0., 1., 0., 0.],\n        [0., 1., 0., 0., 0.],\n        [0., 0., 0., 1., 0.],\n        [0., 0., 0., 0., 1.]]], dtype=float32)"
     },
     "execution_count": 80,
     "metadata": {},
     "output_type": "execute_result"
    }
   ],
   "source": [
    "yy_test = []\n",
    "for per in y_train:\n",
    "    yy_test.append(to_categorical(per,num_classes=5))\n",
    "yy_test = np.asarray(yy_test)\n",
    "yy_test"
   ]
  },
  {
   "cell_type": "code",
   "execution_count": 81,
   "metadata": {
    "pycharm": {
     "name": "#%%\n"
    }
   },
   "outputs": [],
   "source": [
    "np.save(r\"tsp_data/tsp_5/tsp5_train_y.npy\",yy_train)\n",
    "np.save(r\"tsp_data/tsp_5/tsp5_test_y.npy\",yy_test)"
   ]
  },
  {
   "cell_type": "code",
   "execution_count": 76,
   "metadata": {},
   "outputs": [],
   "source": []
  }
 ],
 "metadata": {
  "kernelspec": {
   "display_name": "Python 3",
   "language": "python",
   "name": "python3"
  },
  "language_info": {
   "codemirror_mode": {
    "name": "ipython",
    "version": 3
   },
   "file_extension": ".py",
   "mimetype": "text/x-python",
   "name": "python",
   "nbconvert_exporter": "python",
   "pygments_lexer": "ipython3",
   "version": "3.6.13"
  }
 },
 "nbformat": 4,
 "nbformat_minor": 1
}