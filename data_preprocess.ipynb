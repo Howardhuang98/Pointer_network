{
 "cells": [
  {
   "cell_type": "code",
   "execution_count": 42,
   "metadata": {
    "collapsed": true
   },
   "outputs": [],
   "source": [
    "import pandas as pd\n",
    "import numpy as np\n",
    "from keras.utils.np_utils import to_categorical"
   ]
  },
  {
   "cell_type": "markdown",
   "source": [
    "# 用pandas查看数据"
   ],
   "metadata": {
    "collapsed": false,
    "pycharm": {
     "name": "#%% md\n"
    }
   }
  },
  {
   "cell_type": "code",
   "execution_count": null,
   "outputs": [],
   "source": [
    "pd_data = pd.read_csv(r\"tsp_data/tsp_5/tsp5_train.txt\",sep=\" \")\n",
    "pd_data"
   ],
   "metadata": {
    "collapsed": false,
    "pycharm": {
     "name": "#%%\n"
    }
   }
  },
  {
   "cell_type": "markdown",
   "source": [
    "加载 x\n",
    "\\[samples, time_steps, feature]\n",
    "\\[样本数，城市数目，2]"
   ],
   "metadata": {
    "collapsed": false,
    "pycharm": {
     "name": "#%% md\n"
    }
   }
  },
  {
   "cell_type": "code",
   "execution_count": null,
   "outputs": [],
   "source": [
    "x = np.loadtxt(r\"tsp_data/tsp_5/tsp5_train.txt\",usecols=range(0,10))\n",
    "x"
   ],
   "metadata": {
    "collapsed": false,
    "pycharm": {
     "name": "#%%\n"
    }
   }
  },
  {
   "cell_type": "code",
   "execution_count": 45,
   "outputs": [
    {
     "data": {
      "text/plain": "array([[[0.59764034, 0.81147296],\n        [0.37839254, 0.1881658 ],\n        [0.44284963, 0.29181517],\n        [0.36377419, 0.59624465],\n        [0.95521193, 0.94703186]],\n\n       [[0.61674873, 0.86291727],\n        [0.64658903, 0.21157218],\n        [0.66993989, 0.47599156],\n        [0.33981673, 0.39132813],\n        [0.47056451, 0.25392741]],\n\n       [[0.37902951, 0.89044637],\n        [0.3227339 , 0.28249158],\n        [0.82365648, 0.66743955],\n        [0.58509472, 0.9905391 ],\n        [0.40274668, 0.18590323]],\n\n       ...,\n\n       [[0.13986744, 0.66286485],\n        [0.59894779, 0.81705535],\n        [0.81787341, 0.67676271],\n        [0.56080681, 0.01686202],\n        [0.95060133, 0.4958608 ]],\n\n       [[0.55994436, 0.31062955],\n        [0.76703542, 0.42636486],\n        [0.19564011, 0.35408403],\n        [0.38634472, 0.04860255],\n        [0.29939371, 0.07321974]],\n\n       [[0.73412132, 0.61233866],\n        [0.43417872, 0.71014415],\n        [0.77529509, 0.84343557],\n        [0.33333422, 0.45027037],\n        [0.94254078, 0.08061199]]])"
     },
     "execution_count": 45,
     "metadata": {},
     "output_type": "execute_result"
    }
   ],
   "source": [
    "x = x.reshape((1000000,5,2))\n",
    "x"
   ],
   "metadata": {
    "collapsed": false,
    "pycharm": {
     "name": "#%%\n"
    }
   }
  },
  {
   "cell_type": "code",
   "execution_count": 46,
   "outputs": [],
   "source": [
    "np.save(r\"tsp_data/tsp_5/tsp5_train_x.npy\",x)"
   ],
   "metadata": {
    "collapsed": false,
    "pycharm": {
     "name": "#%%\n"
    }
   }
  },
  {
   "cell_type": "markdown",
   "source": [
    "加载 y\n",
    "\\[samples, time_steps, prob]\n",
    "\\[样本数，城市数目，每个城市对应的概率]\n"
   ],
   "metadata": {
    "collapsed": false,
    "pycharm": {
     "name": "#%% md\n"
    }
   }
  },
  {
   "cell_type": "code",
   "execution_count": null,
   "outputs": [],
   "source": [
    "y = np.loadtxt(r\"tsp_data/tsp_5/tsp5_train.txt\",dtype=str,usecols=range(11,16))\n",
    "y = y.astype(float)\n",
    "y"
   ],
   "metadata": {
    "collapsed": false,
    "pycharm": {
     "name": "#%%\n"
    }
   }
  },
  {
   "cell_type": "code",
   "execution_count": 48,
   "outputs": [
    {
     "data": {
      "text/plain": "array([[0., 3., 1., 2., 4.],\n       [0., 2., 1., 4., 3.],\n       [0., 1., 4., 2., 3.],\n       ...,\n       [0., 1., 2., 4., 3.],\n       [0., 3., 4., 2., 1.],\n       [0., 2., 1., 3., 4.]])"
     },
     "execution_count": 48,
     "metadata": {},
     "output_type": "execute_result"
    }
   ],
   "source": [
    "y = y-1\n",
    "y"
   ],
   "metadata": {
    "collapsed": false,
    "pycharm": {
     "name": "#%%\n"
    }
   }
  },
  {
   "cell_type": "code",
   "execution_count": 51,
   "outputs": [
    {
     "data": {
      "text/plain": "array([[[1., 0., 0., 0., 0.],\n        [0., 0., 0., 1., 0.],\n        [0., 1., 0., 0., 0.],\n        [0., 0., 1., 0., 0.],\n        [0., 0., 0., 0., 1.]],\n\n       [[1., 0., 0., 0., 0.],\n        [0., 0., 1., 0., 0.],\n        [0., 1., 0., 0., 0.],\n        [0., 0., 0., 0., 1.],\n        [0., 0., 0., 1., 0.]],\n\n       [[1., 0., 0., 0., 0.],\n        [0., 1., 0., 0., 0.],\n        [0., 0., 0., 0., 1.],\n        [0., 0., 1., 0., 0.],\n        [0., 0., 0., 1., 0.]],\n\n       ...,\n\n       [[1., 0., 0., 0., 0.],\n        [0., 1., 0., 0., 0.],\n        [0., 0., 1., 0., 0.],\n        [0., 0., 0., 0., 1.],\n        [0., 0., 0., 1., 0.]],\n\n       [[1., 0., 0., 0., 0.],\n        [0., 0., 0., 1., 0.],\n        [0., 0., 0., 0., 1.],\n        [0., 0., 1., 0., 0.],\n        [0., 1., 0., 0., 0.]],\n\n       [[1., 0., 0., 0., 0.],\n        [0., 0., 1., 0., 0.],\n        [0., 1., 0., 0., 0.],\n        [0., 0., 0., 1., 0.],\n        [0., 0., 0., 0., 1.]]], dtype=float32)"
     },
     "execution_count": 51,
     "metadata": {},
     "output_type": "execute_result"
    }
   ],
   "source": [
    "yy = []\n",
    "for per in y:\n",
    "    yy.append(to_categorical(per,num_classes=5))\n",
    "yy = np.asarray(yy)\n",
    "yy"
   ],
   "metadata": {
    "collapsed": false,
    "pycharm": {
     "name": "#%%\n"
    }
   }
  },
  {
   "cell_type": "code",
   "execution_count": 50,
   "outputs": [],
   "source": [
    "np.save(r\"tsp_data/tsp_5/tsp5_train_y.npy\",yy)"
   ],
   "metadata": {
    "collapsed": false,
    "pycharm": {
     "name": "#%%\n"
    }
   }
  }
 ],
 "metadata": {
  "kernelspec": {
   "display_name": "Python 3",
   "language": "python",
   "name": "python3"
  },
  "language_info": {
   "codemirror_mode": {
    "name": "ipython",
    "version": 2
   },
   "file_extension": ".py",
   "mimetype": "text/x-python",
   "name": "python",
   "nbconvert_exporter": "python",
   "pygments_lexer": "ipython2",
   "version": "2.7.6"
  }
 },
 "nbformat": 4,
 "nbformat_minor": 0
}